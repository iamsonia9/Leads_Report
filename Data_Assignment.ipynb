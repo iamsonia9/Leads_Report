{
 "cells": [
  {
   "cell_type": "markdown",
   "id": "dd1805c1",
   "metadata": {},
   "source": [
    "# Problem Statement\n",
    "\n",
    "The objective of this assignment is to evaluate your ability to analyze raw data and provide insights from it. You will be required to clean, analyze and visualize associate performance data and provide actionable insights and recommendations for the Business Development Team based on the data. You will also be expected to make tentative projections for the next month."
   ]
  },
  {
   "cell_type": "markdown",
   "id": "9eb258f1",
   "metadata": {},
   "source": [
    "# Import Required Libraries"
   ]
  },
  {
   "cell_type": "code",
   "execution_count": 214,
   "id": "6ea4a4e3",
   "metadata": {},
   "outputs": [],
   "source": [
    "import pandas as pd \n",
    "import numpy as np\n",
    "import seaborn as sns\n",
    "import warnings\n",
    "import matplotlib.pyplot as plt"
   ]
  },
  {
   "cell_type": "code",
   "execution_count": 215,
   "id": "d5608895",
   "metadata": {},
   "outputs": [
    {
     "data": {
      "text/plain": [
       "{'Associate ABC':          Date  No of Leads  Time Spent on LG (in mins)\n",
       " 0  2023-01-09          2.0                       300.0\n",
       " 1  2023-01-10          1.0                       300.0\n",
       " 2  2023-01-11          5.0                       300.0\n",
       " 3  2023-01-12          4.0                       300.0\n",
       " 4  2023-01-13          5.0                       300.0\n",
       " ..        ...          ...                         ...\n",
       " 77 2023-02-06          NaN                         4.0\n",
       " 78 2023-02-07          NaN                         2.0\n",
       " 79 2023-02-08          NaN                         0.0\n",
       " 80 2023-02-09          NaN                         0.0\n",
       " 81 2023-02-10          NaN                        14.0\n",
       " \n",
       " [82 rows x 3 columns],\n",
       " 'Associate XYZ':          Date  No of Leads  Time Spent on LG (in mins)\n",
       " 0  2023-01-09         10.0                       180.0\n",
       " 1  2023-01-10         15.0                       300.0\n",
       " 2  2023-01-11         11.0                       300.0\n",
       " 3  2023-01-12         11.0                       300.0\n",
       " 4  2023-01-13         13.0                       300.0\n",
       " ..        ...          ...                         ...\n",
       " 56 2023-03-06         12.0                       420.0\n",
       " 57 2023-03-07          NaN                         NaN\n",
       " 58 2023-03-08         10.0                       420.0\n",
       " 59 2023-03-09          9.0                       420.0\n",
       " 60 2023-03-10          7.0                       360.0\n",
       " \n",
       " [61 rows x 3 columns],\n",
       " 'Associlate KLM':           Date  No of Leads  Time Spent on LG (in mins)\n",
       " 0   2023-01-09          6.0                       540.0\n",
       " 1   2023-01-10          9.0                       540.0\n",
       " 2   2023-01-11          NaN                         NaN\n",
       " 3   2023-01-12         11.0                       540.0\n",
       " 4   2023-01-13         16.0                       540.0\n",
       " ..         ...          ...                         ...\n",
       " 119 2023-05-08         10.0                       420.0\n",
       " 120 2023-05-09          9.0                       540.0\n",
       " 121 2023-05-10          8.0                       360.0\n",
       " 122 2023-05-11         12.0                       420.0\n",
       " 123 2023-05-12         11.0                       300.0\n",
       " \n",
       " [124 rows x 3 columns]}"
      ]
     },
     "execution_count": 215,
     "metadata": {},
     "output_type": "execute_result"
    }
   ],
   "source": [
    "data = pd.read_excel(\"Data_Assignment.xlsx\",sheet_name = None)\n",
    "data"
   ]
  },
  {
   "cell_type": "code",
   "execution_count": 216,
   "id": "9c71b463",
   "metadata": {},
   "outputs": [
    {
     "data": {
      "text/html": [
       "<div>\n",
       "<style scoped>\n",
       "    .dataframe tbody tr th:only-of-type {\n",
       "        vertical-align: middle;\n",
       "    }\n",
       "\n",
       "    .dataframe tbody tr th {\n",
       "        vertical-align: top;\n",
       "    }\n",
       "\n",
       "    .dataframe thead th {\n",
       "        text-align: right;\n",
       "    }\n",
       "</style>\n",
       "<table border=\"1\" class=\"dataframe\">\n",
       "  <thead>\n",
       "    <tr style=\"text-align: right;\">\n",
       "      <th></th>\n",
       "      <th>Date</th>\n",
       "      <th>No of Leads</th>\n",
       "      <th>Time Spent on LG (in mins)</th>\n",
       "    </tr>\n",
       "  </thead>\n",
       "  <tbody>\n",
       "    <tr>\n",
       "      <th>0</th>\n",
       "      <td>2023-01-09</td>\n",
       "      <td>2.0</td>\n",
       "      <td>300.0</td>\n",
       "    </tr>\n",
       "    <tr>\n",
       "      <th>1</th>\n",
       "      <td>2023-01-10</td>\n",
       "      <td>1.0</td>\n",
       "      <td>300.0</td>\n",
       "    </tr>\n",
       "    <tr>\n",
       "      <th>2</th>\n",
       "      <td>2023-01-11</td>\n",
       "      <td>5.0</td>\n",
       "      <td>300.0</td>\n",
       "    </tr>\n",
       "    <tr>\n",
       "      <th>3</th>\n",
       "      <td>2023-01-12</td>\n",
       "      <td>4.0</td>\n",
       "      <td>300.0</td>\n",
       "    </tr>\n",
       "    <tr>\n",
       "      <th>4</th>\n",
       "      <td>2023-01-13</td>\n",
       "      <td>5.0</td>\n",
       "      <td>300.0</td>\n",
       "    </tr>\n",
       "    <tr>\n",
       "      <th>...</th>\n",
       "      <td>...</td>\n",
       "      <td>...</td>\n",
       "      <td>...</td>\n",
       "    </tr>\n",
       "    <tr>\n",
       "      <th>77</th>\n",
       "      <td>2023-02-06</td>\n",
       "      <td>NaN</td>\n",
       "      <td>4.0</td>\n",
       "    </tr>\n",
       "    <tr>\n",
       "      <th>78</th>\n",
       "      <td>2023-02-07</td>\n",
       "      <td>NaN</td>\n",
       "      <td>2.0</td>\n",
       "    </tr>\n",
       "    <tr>\n",
       "      <th>79</th>\n",
       "      <td>2023-02-08</td>\n",
       "      <td>NaN</td>\n",
       "      <td>0.0</td>\n",
       "    </tr>\n",
       "    <tr>\n",
       "      <th>80</th>\n",
       "      <td>2023-02-09</td>\n",
       "      <td>NaN</td>\n",
       "      <td>0.0</td>\n",
       "    </tr>\n",
       "    <tr>\n",
       "      <th>81</th>\n",
       "      <td>2023-02-10</td>\n",
       "      <td>NaN</td>\n",
       "      <td>14.0</td>\n",
       "    </tr>\n",
       "  </tbody>\n",
       "</table>\n",
       "<p>82 rows × 3 columns</p>\n",
       "</div>"
      ],
      "text/plain": [
       "         Date  No of Leads  Time Spent on LG (in mins)\n",
       "0  2023-01-09          2.0                       300.0\n",
       "1  2023-01-10          1.0                       300.0\n",
       "2  2023-01-11          5.0                       300.0\n",
       "3  2023-01-12          4.0                       300.0\n",
       "4  2023-01-13          5.0                       300.0\n",
       "..        ...          ...                         ...\n",
       "77 2023-02-06          NaN                         4.0\n",
       "78 2023-02-07          NaN                         2.0\n",
       "79 2023-02-08          NaN                         0.0\n",
       "80 2023-02-09          NaN                         0.0\n",
       "81 2023-02-10          NaN                        14.0\n",
       "\n",
       "[82 rows x 3 columns]"
      ]
     },
     "execution_count": 216,
     "metadata": {},
     "output_type": "execute_result"
    }
   ],
   "source": [
    "abc = data['Associate ABC']\n",
    "abc"
   ]
  },
  {
   "cell_type": "markdown",
   "id": "345b5a35",
   "metadata": {},
   "source": [
    "# Check Null Values"
   ]
  },
  {
   "cell_type": "code",
   "execution_count": 217,
   "id": "d238847c",
   "metadata": {},
   "outputs": [
    {
     "data": {
      "text/plain": [
       "Date                           0\n",
       "No of Leads                   34\n",
       "Time Spent on LG (in mins)    24\n",
       "dtype: int64"
      ]
     },
     "execution_count": 217,
     "metadata": {},
     "output_type": "execute_result"
    }
   ],
   "source": [
    "abc.isnull().sum()"
   ]
  },
  {
   "cell_type": "markdown",
   "id": "4678ace8",
   "metadata": {},
   "source": [
    "# Handling Missing Values"
   ]
  },
  {
   "cell_type": "code",
   "execution_count": 218,
   "id": "586c43dc",
   "metadata": {},
   "outputs": [],
   "source": [
    "abc = abc.dropna() \n",
    "abc = abc[(abc != 0).all(1)]  # Drop rows with 0 values"
   ]
  },
  {
   "cell_type": "code",
   "execution_count": 219,
   "id": "504b50b6",
   "metadata": {},
   "outputs": [
    {
     "data": {
      "text/plain": [
       "Date                          0\n",
       "No of Leads                   0\n",
       "Time Spent on LG (in mins)    0\n",
       "dtype: int64"
      ]
     },
     "execution_count": 219,
     "metadata": {},
     "output_type": "execute_result"
    }
   ],
   "source": [
    "abc.isnull().sum()"
   ]
  },
  {
   "cell_type": "code",
   "execution_count": 220,
   "id": "28095b88",
   "metadata": {},
   "outputs": [
    {
     "data": {
      "text/plain": [
       "(45, 3)"
      ]
     },
     "execution_count": 220,
     "metadata": {},
     "output_type": "execute_result"
    }
   ],
   "source": [
    "abc.shape"
   ]
  },
  {
   "cell_type": "code",
   "execution_count": 221,
   "id": "7f26d139",
   "metadata": {},
   "outputs": [
    {
     "name": "stdout",
     "output_type": "stream",
     "text": [
      "<class 'pandas.core.frame.DataFrame'>\n",
      "Int64Index: 45 entries, 0 to 67\n",
      "Data columns (total 3 columns):\n",
      " #   Column                      Non-Null Count  Dtype         \n",
      "---  ------                      --------------  -----         \n",
      " 0   Date                        45 non-null     datetime64[ns]\n",
      " 1   No of Leads                 45 non-null     float64       \n",
      " 2   Time Spent on LG (in mins)  45 non-null     float64       \n",
      "dtypes: datetime64[ns](1), float64(2)\n",
      "memory usage: 1.4 KB\n"
     ]
    }
   ],
   "source": [
    "abc.info()"
   ]
  },
  {
   "cell_type": "markdown",
   "id": "d074faa6",
   "metadata": {},
   "source": [
    "# Changing Data Types"
   ]
  },
  {
   "cell_type": "code",
   "execution_count": 222,
   "id": "51b1ff85",
   "metadata": {},
   "outputs": [],
   "source": [
    "abc['No of Leads'] = abc['No of Leads'].astype(int)\n",
    "abc['Time Spent on LG (in mins)'] = abc['Time Spent on LG (in mins)'].astype(int)"
   ]
  },
  {
   "cell_type": "code",
   "execution_count": 223,
   "id": "0f56a8af",
   "metadata": {},
   "outputs": [
    {
     "name": "stdout",
     "output_type": "stream",
     "text": [
      "<class 'pandas.core.frame.DataFrame'>\n",
      "Int64Index: 45 entries, 0 to 67\n",
      "Data columns (total 3 columns):\n",
      " #   Column                      Non-Null Count  Dtype         \n",
      "---  ------                      --------------  -----         \n",
      " 0   Date                        45 non-null     datetime64[ns]\n",
      " 1   No of Leads                 45 non-null     int32         \n",
      " 2   Time Spent on LG (in mins)  45 non-null     int32         \n",
      "dtypes: datetime64[ns](1), int32(2)\n",
      "memory usage: 1.1 KB\n"
     ]
    }
   ],
   "source": [
    "abc.info()"
   ]
  },
  {
   "cell_type": "markdown",
   "id": "8e2c0f95",
   "metadata": {},
   "source": [
    "# Statistics of the data"
   ]
  },
  {
   "cell_type": "code",
   "execution_count": 224,
   "id": "e144272a",
   "metadata": {},
   "outputs": [
    {
     "data": {
      "text/html": [
       "<div>\n",
       "<style scoped>\n",
       "    .dataframe tbody tr th:only-of-type {\n",
       "        vertical-align: middle;\n",
       "    }\n",
       "\n",
       "    .dataframe tbody tr th {\n",
       "        vertical-align: top;\n",
       "    }\n",
       "\n",
       "    .dataframe thead th {\n",
       "        text-align: right;\n",
       "    }\n",
       "</style>\n",
       "<table border=\"1\" class=\"dataframe\">\n",
       "  <thead>\n",
       "    <tr style=\"text-align: right;\">\n",
       "      <th></th>\n",
       "      <th>No of Leads</th>\n",
       "      <th>Time Spent on LG (in mins)</th>\n",
       "    </tr>\n",
       "  </thead>\n",
       "  <tbody>\n",
       "    <tr>\n",
       "      <th>count</th>\n",
       "      <td>45.000000</td>\n",
       "      <td>45.000000</td>\n",
       "    </tr>\n",
       "    <tr>\n",
       "      <th>mean</th>\n",
       "      <td>6.977778</td>\n",
       "      <td>356.666667</td>\n",
       "    </tr>\n",
       "    <tr>\n",
       "      <th>std</th>\n",
       "      <td>3.893403</td>\n",
       "      <td>100.904996</td>\n",
       "    </tr>\n",
       "    <tr>\n",
       "      <th>min</th>\n",
       "      <td>1.000000</td>\n",
       "      <td>60.000000</td>\n",
       "    </tr>\n",
       "    <tr>\n",
       "      <th>25%</th>\n",
       "      <td>4.000000</td>\n",
       "      <td>300.000000</td>\n",
       "    </tr>\n",
       "    <tr>\n",
       "      <th>50%</th>\n",
       "      <td>7.000000</td>\n",
       "      <td>300.000000</td>\n",
       "    </tr>\n",
       "    <tr>\n",
       "      <th>75%</th>\n",
       "      <td>10.000000</td>\n",
       "      <td>400.000000</td>\n",
       "    </tr>\n",
       "    <tr>\n",
       "      <th>max</th>\n",
       "      <td>15.000000</td>\n",
       "      <td>540.000000</td>\n",
       "    </tr>\n",
       "  </tbody>\n",
       "</table>\n",
       "</div>"
      ],
      "text/plain": [
       "       No of Leads  Time Spent on LG (in mins)\n",
       "count    45.000000                   45.000000\n",
       "mean      6.977778                  356.666667\n",
       "std       3.893403                  100.904996\n",
       "min       1.000000                   60.000000\n",
       "25%       4.000000                  300.000000\n",
       "50%       7.000000                  300.000000\n",
       "75%      10.000000                  400.000000\n",
       "max      15.000000                  540.000000"
      ]
     },
     "execution_count": 224,
     "metadata": {},
     "output_type": "execute_result"
    }
   ],
   "source": [
    "abc.describe()"
   ]
  },
  {
   "cell_type": "markdown",
   "id": "472967f7",
   "metadata": {},
   "source": [
    "# Boxplot to check outliers"
   ]
  },
  {
   "cell_type": "code",
   "execution_count": 225,
   "id": "591bc83c",
   "metadata": {},
   "outputs": [
    {
     "data": {
      "image/png": "[encoded data removed]",
      "text/plain": [
       "<Figure size 432x288 with 1 Axes>"
      ]
     },
     "metadata": {
      "needs_background": "light"
     },
     "output_type": "display_data"
    }
   ],
   "source": [
    "sns.boxplot(x=abc['No of Leads'])\n",
    "plt.show()"
   ]
  },
  {
   "cell_type": "code",
   "execution_count": 226,
   "id": "b4215539",
   "metadata": {},
   "outputs": [
    {
     "data": {
      "image/png": "[encoded data removed]",
      "text/plain": [
       "<Figure size 432x288 with 1 Axes>"
      ]
     },
     "metadata": {
      "needs_background": "light"
     },
     "output_type": "display_data"
    }
   ],
   "source": [
    "sns.boxplot(x=abc['Time Spent on LG (in mins)'])\n",
    "plt.show()"
   ]
  },
  {
   "cell_type": "markdown",
   "id": "6d22888a",
   "metadata": {},
   "source": [
    "# Inter Quarterile Range (IQR)"
   ]
  },
  {
   "cell_type": "code",
   "execution_count": 227,
   "id": "c5c6ae32",
   "metadata": {},
   "outputs": [
    {
     "name": "stdout",
     "output_type": "stream",
     "text": [
      "upper_bound 550.0\n",
      "lower_bound 150.0\n"
     ]
    }
   ],
   "source": [
    "Q1 = abc['Time Spent on LG (in mins)'].quantile(0.25)\n",
    "Q3 = abc['Time Spent on LG (in mins)'].quantile(0.75)\n",
    "IQR = Q3 - Q1\n",
    "\n",
    "# Define lower and upper bounds for capping\n",
    "lower_bound = Q1 - 1.5 * IQR\n",
    "upper_bound = Q3 + 1.5 * IQR\n",
    "\n",
    "print('upper_bound',upper_bound)\n",
    "print('lower_bound',lower_bound)\n"
   ]
  },
  {
   "cell_type": "markdown",
   "id": "00f60a83",
   "metadata": {},
   "source": [
    "# Capping the outliers"
   ]
  },
  {
   "cell_type": "code",
   "execution_count": 228,
   "id": "1be5bc70",
   "metadata": {},
   "outputs": [],
   "source": [
    "new_abc_cap = abc.copy()\n",
    "\n",
    "new_abc_cap['Time Spent on LG (in mins)'] = np.where(\n",
    "    new_abc_cap['Time Spent on LG (in mins)']>upper_bound,\n",
    "    upper_bound,\n",
    "    np.where(\n",
    "        new_abc_cap['Time Spent on LG (in mins)']<lower_bound,\n",
    "        lower_bound,\n",
    "        new_abc_cap['Time Spent on LG (in mins)']\n",
    "    )\n",
    ")"
   ]
  },
  {
   "cell_type": "code",
   "execution_count": 229,
   "id": "af5cb1dc",
   "metadata": {},
   "outputs": [
    {
     "data": {
      "image/png": "[encoded data removed]",
      "text/plain": [
       "<Figure size 432x288 with 1 Axes>"
      ]
     },
     "metadata": {
      "needs_background": "light"
     },
     "output_type": "display_data"
    }
   ],
   "source": [
    "sns.boxplot(x=new_abc_cap['Time Spent on LG (in mins)'])\n",
    "plt.show()"
   ]
  },
  {
   "cell_type": "code",
   "execution_count": 230,
   "id": "9d91d926",
   "metadata": {},
   "outputs": [
    {
     "data": {
      "text/html": [
       "<div>\n",
       "<style scoped>\n",
       "    .dataframe tbody tr th:only-of-type {\n",
       "        vertical-align: middle;\n",
       "    }\n",
       "\n",
       "    .dataframe tbody tr th {\n",
       "        vertical-align: top;\n",
       "    }\n",
       "\n",
       "    .dataframe thead th {\n",
       "        text-align: right;\n",
       "    }\n",
       "</style>\n",
       "<table border=\"1\" class=\"dataframe\">\n",
       "  <thead>\n",
       "    <tr style=\"text-align: right;\">\n",
       "      <th></th>\n",
       "      <th>Date</th>\n",
       "      <th>No of Leads</th>\n",
       "      <th>Time Spent on LG (in mins)</th>\n",
       "    </tr>\n",
       "  </thead>\n",
       "  <tbody>\n",
       "    <tr>\n",
       "      <th>0</th>\n",
       "      <td>2023-01-09</td>\n",
       "      <td>10.0</td>\n",
       "      <td>180.0</td>\n",
       "    </tr>\n",
       "    <tr>\n",
       "      <th>1</th>\n",
       "      <td>2023-01-10</td>\n",
       "      <td>15.0</td>\n",
       "      <td>300.0</td>\n",
       "    </tr>\n",
       "    <tr>\n",
       "      <th>2</th>\n",
       "      <td>2023-01-11</td>\n",
       "      <td>11.0</td>\n",
       "      <td>300.0</td>\n",
       "    </tr>\n",
       "    <tr>\n",
       "      <th>3</th>\n",
       "      <td>2023-01-12</td>\n",
       "      <td>11.0</td>\n",
       "      <td>300.0</td>\n",
       "    </tr>\n",
       "    <tr>\n",
       "      <th>4</th>\n",
       "      <td>2023-01-13</td>\n",
       "      <td>13.0</td>\n",
       "      <td>300.0</td>\n",
       "    </tr>\n",
       "    <tr>\n",
       "      <th>...</th>\n",
       "      <td>...</td>\n",
       "      <td>...</td>\n",
       "      <td>...</td>\n",
       "    </tr>\n",
       "    <tr>\n",
       "      <th>56</th>\n",
       "      <td>2023-03-06</td>\n",
       "      <td>12.0</td>\n",
       "      <td>420.0</td>\n",
       "    </tr>\n",
       "    <tr>\n",
       "      <th>57</th>\n",
       "      <td>2023-03-07</td>\n",
       "      <td>NaN</td>\n",
       "      <td>NaN</td>\n",
       "    </tr>\n",
       "    <tr>\n",
       "      <th>58</th>\n",
       "      <td>2023-03-08</td>\n",
       "      <td>10.0</td>\n",
       "      <td>420.0</td>\n",
       "    </tr>\n",
       "    <tr>\n",
       "      <th>59</th>\n",
       "      <td>2023-03-09</td>\n",
       "      <td>9.0</td>\n",
       "      <td>420.0</td>\n",
       "    </tr>\n",
       "    <tr>\n",
       "      <th>60</th>\n",
       "      <td>2023-03-10</td>\n",
       "      <td>7.0</td>\n",
       "      <td>360.0</td>\n",
       "    </tr>\n",
       "  </tbody>\n",
       "</table>\n",
       "<p>61 rows × 3 columns</p>\n",
       "</div>"
      ],
      "text/plain": [
       "         Date  No of Leads  Time Spent on LG (in mins)\n",
       "0  2023-01-09         10.0                       180.0\n",
       "1  2023-01-10         15.0                       300.0\n",
       "2  2023-01-11         11.0                       300.0\n",
       "3  2023-01-12         11.0                       300.0\n",
       "4  2023-01-13         13.0                       300.0\n",
       "..        ...          ...                         ...\n",
       "56 2023-03-06         12.0                       420.0\n",
       "57 2023-03-07          NaN                         NaN\n",
       "58 2023-03-08         10.0                       420.0\n",
       "59 2023-03-09          9.0                       420.0\n",
       "60 2023-03-10          7.0                       360.0\n",
       "\n",
       "[61 rows x 3 columns]"
      ]
     },
     "execution_count": 230,
     "metadata": {},
     "output_type": "execute_result"
    }
   ],
   "source": [
    "xyz = data['Associate XYZ']\n",
    "xyz"
   ]
  },
  {
   "cell_type": "code",
   "execution_count": 231,
   "id": "705573de",
   "metadata": {},
   "outputs": [
    {
     "data": {
      "text/plain": [
       "Date                           0\n",
       "No of Leads                   20\n",
       "Time Spent on LG (in mins)    20\n",
       "dtype: int64"
      ]
     },
     "execution_count": 231,
     "metadata": {},
     "output_type": "execute_result"
    }
   ],
   "source": [
    "xyz.isnull().sum()"
   ]
  },
  {
   "cell_type": "code",
   "execution_count": 232,
   "id": "619e636a",
   "metadata": {},
   "outputs": [
    {
     "data": {
      "text/plain": [
       "Date                          0\n",
       "No of Leads                   0\n",
       "Time Spent on LG (in mins)    0\n",
       "dtype: int64"
      ]
     },
     "execution_count": 232,
     "metadata": {},
     "output_type": "execute_result"
    }
   ],
   "source": [
    "xyz = xyz.dropna()\n",
    "xyz = xyz[(xyz != 0).all(1)]\n",
    "xyz.isnull().sum()"
   ]
  },
  {
   "cell_type": "code",
   "execution_count": 233,
   "id": "f2d18282",
   "metadata": {},
   "outputs": [
    {
     "name": "stdout",
     "output_type": "stream",
     "text": [
      "<class 'pandas.core.frame.DataFrame'>\n",
      "Int64Index: 41 entries, 0 to 60\n",
      "Data columns (total 3 columns):\n",
      " #   Column                      Non-Null Count  Dtype         \n",
      "---  ------                      --------------  -----         \n",
      " 0   Date                        41 non-null     datetime64[ns]\n",
      " 1   No of Leads                 41 non-null     float64       \n",
      " 2   Time Spent on LG (in mins)  41 non-null     float64       \n",
      "dtypes: datetime64[ns](1), float64(2)\n",
      "memory usage: 1.3 KB\n"
     ]
    }
   ],
   "source": [
    "xyz.info()"
   ]
  },
  {
   "cell_type": "code",
   "execution_count": 234,
   "id": "c1449893",
   "metadata": {},
   "outputs": [],
   "source": [
    "xyz['No of Leads'] = xyz['No of Leads'].astype(int)\n",
    "xyz['Time Spent on LG (in mins)'] = xyz['Time Spent on LG (in mins)'].astype(int)"
   ]
  },
  {
   "cell_type": "code",
   "execution_count": 235,
   "id": "a2bf33eb",
   "metadata": {},
   "outputs": [
    {
     "name": "stdout",
     "output_type": "stream",
     "text": [
      "<class 'pandas.core.frame.DataFrame'>\n",
      "Int64Index: 41 entries, 0 to 60\n",
      "Data columns (total 3 columns):\n",
      " #   Column                      Non-Null Count  Dtype         \n",
      "---  ------                      --------------  -----         \n",
      " 0   Date                        41 non-null     datetime64[ns]\n",
      " 1   No of Leads                 41 non-null     int32         \n",
      " 2   Time Spent on LG (in mins)  41 non-null     int32         \n",
      "dtypes: datetime64[ns](1), int32(2)\n",
      "memory usage: 984.0 bytes\n"
     ]
    }
   ],
   "source": [
    "xyz.info()"
   ]
  },
  {
   "cell_type": "code",
   "execution_count": 236,
   "id": "84089301",
   "metadata": {},
   "outputs": [
    {
     "data": {
      "text/html": [
       "<div>\n",
       "<style scoped>\n",
       "    .dataframe tbody tr th:only-of-type {\n",
       "        vertical-align: middle;\n",
       "    }\n",
       "\n",
       "    .dataframe tbody tr th {\n",
       "        vertical-align: top;\n",
       "    }\n",
       "\n",
       "    .dataframe thead th {\n",
       "        text-align: right;\n",
       "    }\n",
       "</style>\n",
       "<table border=\"1\" class=\"dataframe\">\n",
       "  <thead>\n",
       "    <tr style=\"text-align: right;\">\n",
       "      <th></th>\n",
       "      <th>No of Leads</th>\n",
       "      <th>Time Spent on LG (in mins)</th>\n",
       "    </tr>\n",
       "  </thead>\n",
       "  <tbody>\n",
       "    <tr>\n",
       "      <th>count</th>\n",
       "      <td>41.000000</td>\n",
       "      <td>41.000000</td>\n",
       "    </tr>\n",
       "    <tr>\n",
       "      <th>mean</th>\n",
       "      <td>10.853659</td>\n",
       "      <td>387.073171</td>\n",
       "    </tr>\n",
       "    <tr>\n",
       "      <th>std</th>\n",
       "      <td>2.555005</td>\n",
       "      <td>82.651192</td>\n",
       "    </tr>\n",
       "    <tr>\n",
       "      <th>min</th>\n",
       "      <td>7.000000</td>\n",
       "      <td>180.000000</td>\n",
       "    </tr>\n",
       "    <tr>\n",
       "      <th>25%</th>\n",
       "      <td>9.000000</td>\n",
       "      <td>360.000000</td>\n",
       "    </tr>\n",
       "    <tr>\n",
       "      <th>50%</th>\n",
       "      <td>10.000000</td>\n",
       "      <td>420.000000</td>\n",
       "    </tr>\n",
       "    <tr>\n",
       "      <th>75%</th>\n",
       "      <td>13.000000</td>\n",
       "      <td>420.000000</td>\n",
       "    </tr>\n",
       "    <tr>\n",
       "      <th>max</th>\n",
       "      <td>15.000000</td>\n",
       "      <td>600.000000</td>\n",
       "    </tr>\n",
       "  </tbody>\n",
       "</table>\n",
       "</div>"
      ],
      "text/plain": [
       "       No of Leads  Time Spent on LG (in mins)\n",
       "count    41.000000                   41.000000\n",
       "mean     10.853659                  387.073171\n",
       "std       2.555005                   82.651192\n",
       "min       7.000000                  180.000000\n",
       "25%       9.000000                  360.000000\n",
       "50%      10.000000                  420.000000\n",
       "75%      13.000000                  420.000000\n",
       "max      15.000000                  600.000000"
      ]
     },
     "execution_count": 236,
     "metadata": {},
     "output_type": "execute_result"
    }
   ],
   "source": [
    "xyz.describe()"
   ]
  },
  {
   "cell_type": "code",
   "execution_count": 237,
   "id": "4c028535",
   "metadata": {},
   "outputs": [
    {
     "data": {
      "image/png": "[encoded data removed]",
      "text/plain": [
       "<Figure size 432x288 with 1 Axes>"
      ]
     },
     "metadata": {
      "needs_background": "light"
     },
     "output_type": "display_data"
    }
   ],
   "source": [
    "sns.boxplot(x=xyz['No of Leads'])\n",
    "plt.show()"
   ]
  },
  {
   "cell_type": "code",
   "execution_count": 238,
   "id": "88ecb32e",
   "metadata": {},
   "outputs": [
    {
     "data": {
      "image/png": "[encoded data removed]",
      "text/plain": [
       "<Figure size 432x288 with 1 Axes>"
      ]
     },
     "metadata": {
      "needs_background": "light"
     },
     "output_type": "display_data"
    }
   ],
   "source": [
    "sns.boxplot(x=xyz['Time Spent on LG (in mins)'])\n",
    "plt.show()"
   ]
  },
  {
   "cell_type": "code",
   "execution_count": 239,
   "id": "f05ec7f5",
   "metadata": {},
   "outputs": [],
   "source": [
    "Q1 = xyz['Time Spent on LG (in mins)'].quantile(0.25)\n",
    "Q3 = xyz['Time Spent on LG (in mins)'].quantile(0.75)\n",
    "IQR = Q3 - Q1\n",
    "\n",
    "# Define lower and upper bounds for capping\n",
    "lower_bound = Q1 - 1.5 * IQR\n",
    "upper_bound = Q3 + 1.5 * IQR"
   ]
  },
  {
   "cell_type": "code",
   "execution_count": 240,
   "id": "f03d8e05",
   "metadata": {},
   "outputs": [
    {
     "name": "stdout",
     "output_type": "stream",
     "text": [
      "upper_bound 510.0\n",
      "lower_bound 270.0\n"
     ]
    }
   ],
   "source": [
    "print('upper_bound',upper_bound)\n",
    "print('lower_bound',lower_bound)"
   ]
  },
  {
   "cell_type": "code",
   "execution_count": 241,
   "id": "47442ac8",
   "metadata": {},
   "outputs": [
    {
     "data": {
      "text/html": [
       "<div>\n",
       "<style scoped>\n",
       "    .dataframe tbody tr th:only-of-type {\n",
       "        vertical-align: middle;\n",
       "    }\n",
       "\n",
       "    .dataframe tbody tr th {\n",
       "        vertical-align: top;\n",
       "    }\n",
       "\n",
       "    .dataframe thead th {\n",
       "        text-align: right;\n",
       "    }\n",
       "</style>\n",
       "<table border=\"1\" class=\"dataframe\">\n",
       "  <thead>\n",
       "    <tr style=\"text-align: right;\">\n",
       "      <th></th>\n",
       "      <th>Date</th>\n",
       "      <th>No of Leads</th>\n",
       "      <th>Time Spent on LG (in mins)</th>\n",
       "    </tr>\n",
       "  </thead>\n",
       "  <tbody>\n",
       "    <tr>\n",
       "      <th>32</th>\n",
       "      <td>2023-02-10</td>\n",
       "      <td>9</td>\n",
       "      <td>540</td>\n",
       "    </tr>\n",
       "    <tr>\n",
       "      <th>49</th>\n",
       "      <td>2023-02-27</td>\n",
       "      <td>15</td>\n",
       "      <td>600</td>\n",
       "    </tr>\n",
       "  </tbody>\n",
       "</table>\n",
       "</div>"
      ],
      "text/plain": [
       "         Date  No of Leads  Time Spent on LG (in mins)\n",
       "32 2023-02-10            9                         540\n",
       "49 2023-02-27           15                         600"
      ]
     },
     "execution_count": 241,
     "metadata": {},
     "output_type": "execute_result"
    }
   ],
   "source": [
    "xyz[xyz['Time Spent on LG (in mins)']>upper_bound]"
   ]
  },
  {
   "cell_type": "code",
   "execution_count": 242,
   "id": "a4e1c3fd",
   "metadata": {},
   "outputs": [],
   "source": [
    "new_xyz_cap = xyz.copy()\n",
    "\n",
    "new_xyz_cap['Time Spent on LG (in mins)'] = np.where(\n",
    "    new_xyz_cap['Time Spent on LG (in mins)']>upper_bound,\n",
    "    upper_bound,\n",
    "    np.where(\n",
    "        new_xyz_cap['Time Spent on LG (in mins)']<lower_bound,\n",
    "        lower_bound,\n",
    "        new_xyz_cap['Time Spent on LG (in mins)']\n",
    "    )\n",
    ")\n"
   ]
  },
  {
   "cell_type": "code",
   "execution_count": 243,
   "id": "074b0395",
   "metadata": {},
   "outputs": [
    {
     "data": {
      "image/png": "[encoded data removed]",
      "text/plain": [
       "<Figure size 432x288 with 1 Axes>"
      ]
     },
     "metadata": {
      "needs_background": "light"
     },
     "output_type": "display_data"
    }
   ],
   "source": [
    "sns.boxplot(x=new_xyz_cap['Time Spent on LG (in mins)'])\n",
    "plt.show()"
   ]
  },
  {
   "cell_type": "code",
   "execution_count": 244,
   "id": "1c5c9c3b",
   "metadata": {},
   "outputs": [
    {
     "data": {
      "text/html": [
       "<div>\n",
       "<style scoped>\n",
       "    .dataframe tbody tr th:only-of-type {\n",
       "        vertical-align: middle;\n",
       "    }\n",
       "\n",
       "    .dataframe tbody tr th {\n",
       "        vertical-align: top;\n",
       "    }\n",
       "\n",
       "    .dataframe thead th {\n",
       "        text-align: right;\n",
       "    }\n",
       "</style>\n",
       "<table border=\"1\" class=\"dataframe\">\n",
       "  <thead>\n",
       "    <tr style=\"text-align: right;\">\n",
       "      <th></th>\n",
       "      <th>Date</th>\n",
       "      <th>No of Leads</th>\n",
       "      <th>Time Spent on LG (in mins)</th>\n",
       "    </tr>\n",
       "  </thead>\n",
       "  <tbody>\n",
       "    <tr>\n",
       "      <th>0</th>\n",
       "      <td>2023-01-09</td>\n",
       "      <td>6.0</td>\n",
       "      <td>540.0</td>\n",
       "    </tr>\n",
       "    <tr>\n",
       "      <th>1</th>\n",
       "      <td>2023-01-10</td>\n",
       "      <td>9.0</td>\n",
       "      <td>540.0</td>\n",
       "    </tr>\n",
       "    <tr>\n",
       "      <th>2</th>\n",
       "      <td>2023-01-11</td>\n",
       "      <td>NaN</td>\n",
       "      <td>NaN</td>\n",
       "    </tr>\n",
       "    <tr>\n",
       "      <th>3</th>\n",
       "      <td>2023-01-12</td>\n",
       "      <td>11.0</td>\n",
       "      <td>540.0</td>\n",
       "    </tr>\n",
       "    <tr>\n",
       "      <th>4</th>\n",
       "      <td>2023-01-13</td>\n",
       "      <td>16.0</td>\n",
       "      <td>540.0</td>\n",
       "    </tr>\n",
       "    <tr>\n",
       "      <th>...</th>\n",
       "      <td>...</td>\n",
       "      <td>...</td>\n",
       "      <td>...</td>\n",
       "    </tr>\n",
       "    <tr>\n",
       "      <th>119</th>\n",
       "      <td>2023-05-08</td>\n",
       "      <td>10.0</td>\n",
       "      <td>420.0</td>\n",
       "    </tr>\n",
       "    <tr>\n",
       "      <th>120</th>\n",
       "      <td>2023-05-09</td>\n",
       "      <td>9.0</td>\n",
       "      <td>540.0</td>\n",
       "    </tr>\n",
       "    <tr>\n",
       "      <th>121</th>\n",
       "      <td>2023-05-10</td>\n",
       "      <td>8.0</td>\n",
       "      <td>360.0</td>\n",
       "    </tr>\n",
       "    <tr>\n",
       "      <th>122</th>\n",
       "      <td>2023-05-11</td>\n",
       "      <td>12.0</td>\n",
       "      <td>420.0</td>\n",
       "    </tr>\n",
       "    <tr>\n",
       "      <th>123</th>\n",
       "      <td>2023-05-12</td>\n",
       "      <td>11.0</td>\n",
       "      <td>300.0</td>\n",
       "    </tr>\n",
       "  </tbody>\n",
       "</table>\n",
       "<p>124 rows × 3 columns</p>\n",
       "</div>"
      ],
      "text/plain": [
       "          Date  No of Leads  Time Spent on LG (in mins)\n",
       "0   2023-01-09          6.0                       540.0\n",
       "1   2023-01-10          9.0                       540.0\n",
       "2   2023-01-11          NaN                         NaN\n",
       "3   2023-01-12         11.0                       540.0\n",
       "4   2023-01-13         16.0                       540.0\n",
       "..         ...          ...                         ...\n",
       "119 2023-05-08         10.0                       420.0\n",
       "120 2023-05-09          9.0                       540.0\n",
       "121 2023-05-10          8.0                       360.0\n",
       "122 2023-05-11         12.0                       420.0\n",
       "123 2023-05-12         11.0                       300.0\n",
       "\n",
       "[124 rows x 3 columns]"
      ]
     },
     "execution_count": 244,
     "metadata": {},
     "output_type": "execute_result"
    }
   ],
   "source": [
    "klm = data['Associlate KLM']\n",
    "klm"
   ]
  },
  {
   "cell_type": "code",
   "execution_count": 245,
   "id": "bb54d22f",
   "metadata": {},
   "outputs": [
    {
     "data": {
      "text/plain": [
       "Date                           0\n",
       "No of Leads                   14\n",
       "Time Spent on LG (in mins)    17\n",
       "dtype: int64"
      ]
     },
     "execution_count": 245,
     "metadata": {},
     "output_type": "execute_result"
    }
   ],
   "source": [
    "klm.isnull().sum()"
   ]
  },
  {
   "cell_type": "code",
   "execution_count": 246,
   "id": "623ee4e2",
   "metadata": {},
   "outputs": [
    {
     "data": {
      "text/plain": [
       "Date                          0\n",
       "No of Leads                   0\n",
       "Time Spent on LG (in mins)    0\n",
       "dtype: int64"
      ]
     },
     "execution_count": 246,
     "metadata": {},
     "output_type": "execute_result"
    }
   ],
   "source": [
    "klm = klm.dropna()\n",
    "klm = klm[(klm != 0).all(1)]\n",
    "klm.isnull().sum()"
   ]
  },
  {
   "cell_type": "code",
   "execution_count": 247,
   "id": "6d736d06",
   "metadata": {},
   "outputs": [
    {
     "name": "stdout",
     "output_type": "stream",
     "text": [
      "<class 'pandas.core.frame.DataFrame'>\n",
      "Int64Index: 107 entries, 0 to 123\n",
      "Data columns (total 3 columns):\n",
      " #   Column                      Non-Null Count  Dtype         \n",
      "---  ------                      --------------  -----         \n",
      " 0   Date                        107 non-null    datetime64[ns]\n",
      " 1   No of Leads                 107 non-null    float64       \n",
      " 2   Time Spent on LG (in mins)  107 non-null    float64       \n",
      "dtypes: datetime64[ns](1), float64(2)\n",
      "memory usage: 3.3 KB\n"
     ]
    }
   ],
   "source": [
    "klm.info()"
   ]
  },
  {
   "cell_type": "code",
   "execution_count": 248,
   "id": "42f8c00d",
   "metadata": {},
   "outputs": [],
   "source": [
    "klm['No of Leads'] = klm['No of Leads'].astype(int)\n",
    "klm['Time Spent on LG (in mins)'] = klm['Time Spent on LG (in mins)'].astype(int)"
   ]
  },
  {
   "cell_type": "code",
   "execution_count": 249,
   "id": "3f0526e5",
   "metadata": {},
   "outputs": [
    {
     "name": "stdout",
     "output_type": "stream",
     "text": [
      "<class 'pandas.core.frame.DataFrame'>\n",
      "Int64Index: 107 entries, 0 to 123\n",
      "Data columns (total 3 columns):\n",
      " #   Column                      Non-Null Count  Dtype         \n",
      "---  ------                      --------------  -----         \n",
      " 0   Date                        107 non-null    datetime64[ns]\n",
      " 1   No of Leads                 107 non-null    int32         \n",
      " 2   Time Spent on LG (in mins)  107 non-null    int32         \n",
      "dtypes: datetime64[ns](1), int32(2)\n",
      "memory usage: 2.5 KB\n"
     ]
    }
   ],
   "source": [
    "klm.info()"
   ]
  },
  {
   "cell_type": "code",
   "execution_count": 250,
   "id": "ecbd0843",
   "metadata": {},
   "outputs": [
    {
     "data": {
      "text/html": [
       "<div>\n",
       "<style scoped>\n",
       "    .dataframe tbody tr th:only-of-type {\n",
       "        vertical-align: middle;\n",
       "    }\n",
       "\n",
       "    .dataframe tbody tr th {\n",
       "        vertical-align: top;\n",
       "    }\n",
       "\n",
       "    .dataframe thead th {\n",
       "        text-align: right;\n",
       "    }\n",
       "</style>\n",
       "<table border=\"1\" class=\"dataframe\">\n",
       "  <thead>\n",
       "    <tr style=\"text-align: right;\">\n",
       "      <th></th>\n",
       "      <th>No of Leads</th>\n",
       "      <th>Time Spent on LG (in mins)</th>\n",
       "    </tr>\n",
       "  </thead>\n",
       "  <tbody>\n",
       "    <tr>\n",
       "      <th>count</th>\n",
       "      <td>107.000000</td>\n",
       "      <td>107.000000</td>\n",
       "    </tr>\n",
       "    <tr>\n",
       "      <th>mean</th>\n",
       "      <td>9.850467</td>\n",
       "      <td>384.766355</td>\n",
       "    </tr>\n",
       "    <tr>\n",
       "      <th>std</th>\n",
       "      <td>4.147752</td>\n",
       "      <td>99.464090</td>\n",
       "    </tr>\n",
       "    <tr>\n",
       "      <th>min</th>\n",
       "      <td>2.000000</td>\n",
       "      <td>180.000000</td>\n",
       "    </tr>\n",
       "    <tr>\n",
       "      <th>25%</th>\n",
       "      <td>6.000000</td>\n",
       "      <td>300.000000</td>\n",
       "    </tr>\n",
       "    <tr>\n",
       "      <th>50%</th>\n",
       "      <td>10.000000</td>\n",
       "      <td>360.000000</td>\n",
       "    </tr>\n",
       "    <tr>\n",
       "      <th>75%</th>\n",
       "      <td>13.000000</td>\n",
       "      <td>450.000000</td>\n",
       "    </tr>\n",
       "    <tr>\n",
       "      <th>max</th>\n",
       "      <td>23.000000</td>\n",
       "      <td>540.000000</td>\n",
       "    </tr>\n",
       "  </tbody>\n",
       "</table>\n",
       "</div>"
      ],
      "text/plain": [
       "       No of Leads  Time Spent on LG (in mins)\n",
       "count   107.000000                  107.000000\n",
       "mean      9.850467                  384.766355\n",
       "std       4.147752                   99.464090\n",
       "min       2.000000                  180.000000\n",
       "25%       6.000000                  300.000000\n",
       "50%      10.000000                  360.000000\n",
       "75%      13.000000                  450.000000\n",
       "max      23.000000                  540.000000"
      ]
     },
     "execution_count": 250,
     "metadata": {},
     "output_type": "execute_result"
    }
   ],
   "source": [
    "klm.describe()"
   ]
  },
  {
   "cell_type": "code",
   "execution_count": 251,
   "id": "6b5f5497",
   "metadata": {},
   "outputs": [
    {
     "data": {
      "image/png": "[encoded data removed]",
      "text/plain": [
       "<Figure size 432x288 with 1 Axes>"
      ]
     },
     "metadata": {
      "needs_background": "light"
     },
     "output_type": "display_data"
    }
   ],
   "source": [
    "sns.boxplot(x=klm['No of Leads'])\n",
    "plt.show()"
   ]
  },
  {
   "cell_type": "code",
   "execution_count": 252,
   "id": "43bbaff4",
   "metadata": {},
   "outputs": [
    {
     "data": {
      "image/png": "[encoded data removed]",
      "text/plain": [
       "<Figure size 432x288 with 1 Axes>"
      ]
     },
     "metadata": {
      "needs_background": "light"
     },
     "output_type": "display_data"
    }
   ],
   "source": [
    "sns.boxplot(x=klm['Time Spent on LG (in mins)'])\n",
    "plt.show()"
   ]
  },
  {
   "cell_type": "code",
   "execution_count": 253,
   "id": "1061b5ec",
   "metadata": {},
   "outputs": [],
   "source": [
    "klm.to_csv('klm_data.csv', index=False)"
   ]
  },
  {
   "cell_type": "code",
   "execution_count": 254,
   "id": "ba6ecf40",
   "metadata": {},
   "outputs": [],
   "source": [
    "abc.to_csv('abc_data.csv', index=False)"
   ]
  },
  {
   "cell_type": "code",
   "execution_count": 255,
   "id": "f65363ec",
   "metadata": {},
   "outputs": [],
   "source": [
    "xyz.to_csv('xyz_data.csv', index=False)"
   ]
  },
  {
   "cell_type": "code",
   "execution_count": 256,
   "id": "0e9e9776",
   "metadata": {},
   "outputs": [],
   "source": [
    "df1 = pd.read_csv('abc_data.csv')\n",
    "\n",
    "# Read data from the second CSV file\n",
    "df2 = pd.read_csv('xyz_data.csv')\n",
    "\n",
    "# Read data from the third CSV file\n",
    "df3 = pd.read_csv('klm_data.csv')\n",
    "\n",
    "# Create a Pandas Excel writer using XlsxWriter as the engine\n",
    "with pd.ExcelWriter('C:/Users/sonia/Downloads/Antartica_Cleaned_Data/Final_Data.xlsx', engine='xlsxwriter') as writer:\n",
    "    # Write each DataFrame to a different sheet in the Excel file\n",
    "    df1.to_excel(writer, sheet_name='abc', index=False)\n",
    "    df2.to_excel(writer, sheet_name='xyz', index=False)\n",
    "    df3.to_excel(writer, sheet_name='klm', index=False)"
   ]
  },
  {
   "cell_type": "code",
   "execution_count": null,
   "id": "96d354ad",
   "metadata": {},
   "outputs": [],
   "source": []
  }
 ],
 "metadata": {
  "kernelspec": {
   "display_name": "Python 3 (ipykernel)",
   "language": "python",
   "name": "python3"
  },
  "language_info": {
   "codemirror_mode": {
    "name": "ipython",
    "version": 3
   },
   "file_extension": ".py",
   "mimetype": "text/x-python",
   "name": "python",
   "nbconvert_exporter": "python",
   "pygments_lexer": "ipython3",
   "version": "3.9.12"
  }
 },
 "nbformat": 4,
 "nbformat_minor": 5
}
